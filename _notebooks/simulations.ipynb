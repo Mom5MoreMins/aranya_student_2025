{
 "cells": [
  {
   "cell_type": "markdown",
   "id": "8e9ef51c",
   "metadata": {},
   "source": [
    "---\n",
    "layout: post\n",
    "title: Team Teach Simulations\n",
    "description: Ethan, Risha, Abby, Soumini\n",
    "permalink: /simulationgames\n",
    "menu: nav/teamteach.html\n",
    "---"
   ]
  },
  {
   "cell_type": "markdown",
   "id": "70041872",
   "metadata": {},
   "source": [
    "# Defining Simulations\n",
    "Simulations model real-world systems with code, allowing safe testing and analysis without real-world constraints."
   ]
  },
  {
   "cell_type": "markdown",
   "id": "0bb6dc86",
   "metadata": {},
   "source": [
    "## Real Life Applications\n",
    "1. **Engineering & Manufacturing**\n",
    "   - Product Testing (MATLAB, ANSYS)\n",
    "   - Structural Analysis\n",
    "   - Robotics\n",
    "2. **Healthcare & Medicine**\n",
    "   - Surgical Simulations (VR)\n",
    "   - Drug Development\n",
    "   - Epidemiology Models\n",
    "3. **Business & Finance**\n",
    "   - Market Simulations\n",
    "   - Supply Chain Optimization\n",
    "   - Risk Analysis\n",
    "4. **Aerospace & Automotive**\n",
    "   - Flight Simulators\n",
    "   - Crash Testing\n",
    "   - Space Mission Testing\n",
    "5. **Entertainment & Game Development**\n",
    "   - Physics Engines\n",
    "   - AI Behavior Modeling\n",
    "   - CGI & Animation\n",
    "6. **Environmental & Weather Science**\n",
    "   - Climate Modeling\n",
    "   - Weather Forecasting\n",
    "   - Disaster Planning"
   ]
  },
  {
   "cell_type": "markdown",
   "id": "91d9ceab",
   "metadata": {},
   "source": [
    "## Why Use Simulation Code?\n",
    "- Saves Money  \n",
    "- Reduces Risk  \n",
    "- Improves Accuracy  \n",
    "- Speeds Up Development"
   ]
  },
  {
   "cell_type": "markdown",
   "id": "4eaa1454",
   "metadata": {},
   "source": [
    "### Dice Roll Example"
   ]
  },
  {
   "cell_type": "code",
   "execution_count": null,
   "id": "c4b4efe0",
   "metadata": {},
   "outputs": [],
   "source": [
    "import random\n",
    "\n",
    "def roll_dice():\n",
    "    return random.randint(1, 6)\n",
    "\n",
    "# Simulate a dice roll\n",
    "dice_roll = roll_dice()\n",
    "print(\"Number:\", dice_roll)"
   ]
  },
  {
   "cell_type": "markdown",
   "id": "4afcfecb",
   "metadata": {},
   "source": [
    "### Popcorn Hack #1\n",
    "Instead of a dice roll, create a number spinner. Use the dice-roll setup to simulate any range you choose."
   ]
  },
  {
   "cell_type": "code",
   "execution_count": null,
   "id": "a753f0eb",
   "metadata": {},
   "outputs": [],
   "source": [
    "import random\n",
    "\n",
    "def spin_number(min_val, max_val):\n",
    "    return random.randint(min_val, max_val)\n",
    "\n",
    "# Example spinner range 1–10\n",
    "spinner = spin_number(1, 10)\n",
    "print(\"Spinner result:\", spinner)"
   ]
  },
  {
   "cell_type": "markdown",
   "id": "e40ce491",
   "metadata": {},
   "source": [
    "### Rock Paper Scissors Example"
   ]
  },
  {
   "cell_type": "code",
   "execution_count": null,
   "id": "8fa2fa59",
   "metadata": {},
   "outputs": [],
   "source": [
    "import random\n",
    "\n",
    "def play_rock_paper_scissors():\n",
    "    choices = ['rock', 'paper', 'scissors']\n",
    "    computer_choice = random.choice(choices)\n",
    "    user_choice = input(\"Enter rock, paper, or scissors: \")\n",
    "\n",
    "    if user_choice not in choices:\n",
    "        print(\"Invalid choice.\")\n",
    "        return\n",
    "\n",
    "    print(\"Computer chose:\", computer_choice)\n",
    "    print(\"You chose:\", user_choice)\n",
    "\n",
    "    if user_choice == computer_choice:\n",
    "        print(\"It's a tie!\")\n",
    "    elif (user_choice == 'rock' and computer_choice == 'scissors')          or (user_choice == 'paper' and computer_choice == 'rock')          or (user_choice == 'scissors' and computer_choice == 'paper'):\n",
    "        print(\"You win!\")\n",
    "    else:\n",
    "        print(\"You lose!\")\n",
    "\n",
    "play_rock_paper_scissors()"
   ]
  },
  {
   "cell_type": "markdown",
   "id": "4c50d161",
   "metadata": {},
   "source": [
    "### Popcorn Hack #2\n",
    "Run the Rock-Paper-Scissors cell above, input your move when prompted, and share your output."
   ]
  },
  {
   "cell_type": "markdown",
   "id": "f6af5ab3",
   "metadata": {},
   "source": [
    "## College Board Application: MCQ Practice\n",
    "**Predicting Births**\n",
    "A researcher’s model predicted 200 births last year; actual was 120.\n",
    "Which strategy is LEAST likely to improve accuracy?\n",
    "- A: Gather more yearly data\n",
    "- B: Refine the simulation model\n",
    "- C: Remove details to speed calculations\n",
    "- D: Include community age data\n",
    "\n",
    "**Mouse & Predator Simulation**\n",
    "Assuming code below (predators constant, mice updated daily):\n",
    "```\n",
    "REPEAT UNTIL days=365:\n",
    "    numMice = NextDayPopulation(numMice, numPredators)\n",
    "```\n",
    "Which assumption is made?\n",
    "- A: Mice increase by 1 each day\n",
    "- B: Mice number stays constant\n",
    "- C: Predators increase by 1 each day\n",
    "- D: Predators number stays constant"
   ]
  }
 ],
 "metadata": {},
 "nbformat": 4,
 "nbformat_minor": 5
}
