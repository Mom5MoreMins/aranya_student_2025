{
 "cells": [
  {
   "cell_type": "markdown",
   "id": "2e2f0bc2",
   "metadata": {},
   "source": [
    "---\n",
    "layout: post\n",
    "title: Group 6 Homework\n",
    "description: Safe Computing\n",
    "comments: true\n",
    "sticky_rank: 1\n",
    "---"
   ]
  },
  {
   "cell_type": "markdown",
   "id": "c1e2a2cf",
   "metadata": {},
   "source": [
    "## Popcorn Hack #1  \n",
    "**Identify PII**  \n",
    "\n",
    "Which of the following is considered PII?  \n",
    "\n",
    "A. Fingerprint  \n",
    "B. Favorite Color  \n",
    "C. Zip Code  \n",
    "D. Job Title  \n",
    "\n",
    "**Answer:** Fingerprint"
   ]
  },
  {
   "cell_type": "markdown",
   "id": "f88239a0",
   "metadata": {},
   "source": [
    "## Popcorn Hack #2  \n",
    "**MC question from College Board**  \n",
    "\n",
    "Which of the following is an example of symmetric encryption?  \n",
    "\n",
    "A. Evy buys a locked box that operates using two different codes. When the first code is entered, a slot opens that allows a message to be put in the box. When the second code is entered, the door to the box opens. Evy gives the first code to her friends so they can leave messages for her and keeps the second code to herself so that she is the only one who can retrieve the messages.  \n",
    "\n",
    "B. Finn and Gwen develop a system that maps each letter of the alphabet to a unique symbol using a secret key. Finn uses the key to write a message to Gwen where each letter is replaced with the corresponding symbol. Gwen uses the key to map each symbol back to the original letter.  \n",
    "\n",
    "C. Hannah writes a message to send to Isabel and hides the message under a rock behind the soccer field. Hannah gives Isabel the exact location of the rock so that only Isabel can find the message.  \n",
    "\n",
    "D. Juan writes a message to send to Kelly and slides the message through a slot in the front of Kelly’s locker. Juan knows that Kelly has not shared her locker combination with anyone, so no one other than Kelly will be able to read the message.  \n",
    "\n",
    "**Correct answer:** B"
   ]
  },
  {
   "cell_type": "markdown",
   "id": "cebda2f0",
   "metadata": {},
   "source": [
    "## Popcorn Hack #3  \n",
    "\n",
    "The password I chose includes words that are important to me, so I will remember the password. I chose to include special characters and numbers along with capitalized letters to ensure that my password is secure and cannot be easily cracked."
   ]
  }
 ],
 "metadata": {},
 "nbformat": 4,
 "nbformat_minor": 5
}
