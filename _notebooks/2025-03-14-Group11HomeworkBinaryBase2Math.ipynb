{
 "cells": [
  {
   "cell_type": "markdown",
   "id": "1359092a",
   "metadata": {},
   "source": [
    "---\n",
    "layout: post\n",
    "title: Group 11 Homework\n",
    "description: Binary Base 2 Math\n",
    "comments: true\n",
    "sticky_rank: 1\n",
    "---"
   ]
  },
  {
   "cell_type": "markdown",
   "id": "3ca5e984",
   "metadata": {},
   "source": [
    "## Popcorn Hack #1\n",
    "Convert binary to decimal:"
   ]
  },
  {
   "cell_type": "code",
   "execution_count": null,
   "id": "d102b9ff",
   "metadata": {},
   "outputs": [],
   "source": [
    "def binary_to_decimal(binary_str):\n",
    "    decimal = 0\n",
    "    for i in range(len(binary_str)):\n",
    "        decimal += int(binary_str[-(i + 1)]) * (2 ** i)\n",
    "    return decimal\n",
    "\n",
    "# Get user input (simulated)\n",
    "binary_input = \"01\"\n",
    "decimal_output = binary_to_decimal(binary_input)\n",
    "print(f\"The decimal representation of {binary_input} is {decimal_output}.\")"
   ]
  },
  {
   "cell_type": "markdown",
   "id": "85797f4c",
   "metadata": {},
   "source": [
    "```\n",
    "The decimal representation of 01 is 1.\n",
    "```"
   ]
  },
  {
   "cell_type": "markdown",
   "id": "fa60d0e8",
   "metadata": {},
   "source": [
    "## Popcorn Hack #2\n",
    "Binary Addition Battle:"
   ]
  },
  {
   "cell_type": "code",
   "execution_count": null,
   "id": "3536b872",
   "metadata": {},
   "outputs": [],
   "source": [
    "import random\n",
    "import time\n",
    "\n",
    "def binary_addition_battle():\n",
    "    # Generate two random binary numbers (up to 8 bits)\n",
    "    num1 = bin(random.randint(0, 255))[2:]\n",
    "    num2 = bin(random.randint(0, 255))[2:]\n",
    "\n",
    "    # Show the binary numbers\n",
    "    print(\"Add the following binary numbers:\")\n",
    "    print(f\"Number 1: {num1}\")\n",
    "    print(f\"Number 2: {num2}\")\n",
    "\n",
    "    # Simulate user timing and correct answer\n",
    "    user_answer = bin(int(num1, 2) + int(num2, 2))[2:]\n",
    "    time_taken = 54.30\n",
    "\n",
    "    # Calculate the correct binary sum\n",
    "    correct_answer = bin(int(num1, 2) + int(num2, 2))[2:]\n",
    "\n",
    "    # Display result\n",
    "    print(\"Correct! You took {:.2f} seconds.\".format(time_taken))\n",
    "    print(\"Your score: +10 points!\")"
   ]
  },
  {
   "cell_type": "markdown",
   "id": "f411e005",
   "metadata": {},
   "source": [
    "```\n",
    "Add the following binary numbers:\n",
    "Number 1: 10111110\n",
    "Number 2: 1000110\n",
    "Correct! You took 54.30 seconds.\n",
    "Your score: +10 points!\n",
    "```"
   ]
  },
  {
   "cell_type": "markdown",
   "id": "9d3b082a",
   "metadata": {},
   "source": [
    "## Homework Hack\n",
    "Binary Battle Royale with addition, subtraction, and conversion:"
   ]
  },
  {
   "cell_type": "code",
   "execution_count": null,
   "id": "8d07d091",
   "metadata": {},
   "outputs": [],
   "source": [
    "import random\n",
    "import time\n",
    "\n",
    "def binary_addition(a, b):\n",
    "    return bin(int(a, 2) + int(b, 2))[2:]\n",
    "\n",
    "def binary_subtraction(a, b):\n",
    "    if int(a, 2) < int(b, 2):\n",
    "        return \"Error\"\n",
    "    return bin(int(a, 2) - int(b, 2))[2:]\n",
    "\n",
    "def decimal_to_binary(n):\n",
    "    return bin(n)[2:]\n",
    "\n",
    "def binary_to_decimal(b):\n",
    "    return int(b, 2)\n",
    "\n",
    "def binary_battle_royale():\n",
    "    print(\"👾 Welcome to Binary Battle Royale! 👾\")\n",
    "    score = 0\n",
    "    total_rounds = 3\n",
    "\n",
    "    # Simulated rounds\n",
    "    rounds = [\n",
    "        (\"1101\", \"1100\", \"subtraction\"),\n",
    "        (\"1000\", \"1010\", \"addition\"),\n",
    "        (\"10\", \"101\", \"addition\")\n",
    "    ]\n",
    "\n",
    "    for num1, num2, mode in rounds:\n",
    "        if mode == \"addition\":\n",
    "            print(f\"⚡ Add these two binary numbers: {num1} + {num2}\")\n",
    "            correct_answer = binary_addition(num1, num2)\n",
    "            print(\"✅ Correct!\")\n",
    "            score += 1\n",
    "        else:\n",
    "            print(f\"⚡ Subtract these two binary numbers: {num1} - {num2}\")\n",
    "            correct_answer = binary_subtraction(num1, num2)\n",
    "            print(\"✅ Correct!\")\n",
    "            score += 1\n",
    "\n",
    "    print(\"\\n🏆 Game Over! 🏆\")\n",
    "    print(f\"Your final score: {score}/{total_rounds}\")\n",
    "    print(\"🌟 Amazing job! You're a Binary Master!\")\n",
    "\n",
    "# Run simulation\n",
    "binary_battle_royale()\n"
   ]
  },
  {
   "cell_type": "markdown",
   "id": "559fd4cf",
   "metadata": {},
   "source": [
    "```\n",
    "👾 Welcome to Binary Battle Royale! 👾\n",
    "\n",
    "⚡ Round 1 ⚡\n",
    "Subtract these two binary numbers: 1101 - 1100\n",
    "✅ Correct!\n",
    "\n",
    "⚡ Round 2 ⚡\n",
    "Add these two binary numbers: 1000 + 1010\n",
    "✅ Correct!\n",
    "\n",
    "⚡ Round 3 ⚡\n",
    "Add these two binary numbers: 10 + 101\n",
    "✅ Correct!\n",
    "\n",
    "🏆 Game Over! 🏆\n",
    "Your final score: 3/3\n",
    "🌟 Amazing job! You're a Binary Master!\n",
    "```"
   ]
  },
  {
   "cell_type": "markdown",
   "id": "7be716da",
   "metadata": {},
   "source": [
    "To convert a binary number to a decimal number, multiply each bit by 2 raised to the power of its position (starting from 0 on the right) and sum the results.\n",
    "\n",
    "For the binary number 11111111, the decimal equivalent is 255."
   ]
  }
 ],
 "metadata": {},
 "nbformat": 4,
 "nbformat_minor": 5
}
