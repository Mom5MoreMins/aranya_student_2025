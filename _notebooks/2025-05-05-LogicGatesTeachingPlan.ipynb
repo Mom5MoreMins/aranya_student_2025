{
 "cells": [
  {
   "cell_type": "markdown",
   "id": "ff373926",
   "metadata": {},
   "source": [
    "---\n",
    "layout: post\n",
    "title: logicgates\n",
    "description: logic gates\n",
    "comments: true\n",
    "---"
   ]
  },
  {
   "cell_type": "markdown",
   "id": "e1d098ab",
   "metadata": {},
   "source": [
    "A simple three-factor authentication check using logic gates: access is granted only if **keycard**, **PIN**, and **voice authorization** are all 1. This implements the AND gate chain."
   ]
  },
  {
   "cell_type": "code",
   "execution_count": null,
   "id": "487ca455",
   "metadata": {},
   "outputs": [],
   "source": [
    "def secure_entry_system(keycard: int, pin: int, voice_auth: int) -> int:\n",
    "    \"\"\"Return 1 (access granted) only if all three inputs are 1.\n",
    "    Otherwise, return 0 (access denied).\n",
    "    \"\"\"\n",
    "    return keycard & pin & voice_auth\n",
    "\n",
    "# Test cases\n",
    "test_vectors = [\n",
    "    (1, 1, 1),  # all valid → access granted\n",
    "    (1, 1, 0),  # voice fails → access denied\n",
    "    (0, 1, 1),  # keycard fails → access denied\n",
    "    (1, 0, 1),  # PIN fails → access denied\n",
    "]\n",
    "\n",
    "for k, p, v in test_vectors:\n",
    "    print(f\"secure_entry_system({k}, {p}, {v}) = {secure_entry_system(k, p, v)}\")"
   ]
  },
  {
   "cell_type": "markdown",
   "id": "a6fb4353",
   "metadata": {},
   "source": [
    "```\n",
    "secure_entry_system(1, 1, 1) = 1\n",
    "secure_entry_system(1, 1, 0) = 0\n",
    "secure_entry_system(0, 1, 1) = 0\n",
    "secure_entry_system(1, 0, 1) = 0\n",
    "```"
   ]
  }
 ],
 "metadata": {
  "language_info": {
   "name": "python"
  }
 },
 "nbformat": 4,
 "nbformat_minor": 5
}
