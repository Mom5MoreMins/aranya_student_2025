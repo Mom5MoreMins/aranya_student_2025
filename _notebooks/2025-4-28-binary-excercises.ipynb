{
 "cells": [
  {
   "cell_type": "raw",
   "id": "b77de2df",
   "metadata": {
    "vscode": {
     "languageId": "raw"
    }
   },
   "source": [
    "---\n",
    "layout: post\n",
    "title: binarylesson\n",
    "description: binary\n",
    "comments: true\n",
    "---"
   ]
  },
  {
   "cell_type": "markdown",
   "id": "88149e6e",
   "metadata": {},
   "source": [
    "# Binary Exercises Notebook\n",
    "\n",
    "**Explanation:** To convert a binary number to decimal, multiply each bit by 2 raised to the power of its position (starting at 0 on the right) and sum the results. For example, the binary number `11111111` equals `255` in decimal."
   ]
  },
  {
   "cell_type": "markdown",
   "id": "354d3130",
   "metadata": {},
   "source": [
    "## Popcorn Hack 1: Binary to Decimal Converter"
   ]
  },
  {
   "cell_type": "code",
   "execution_count": 1,
   "id": "6a843e2b",
   "metadata": {},
   "outputs": [
    {
     "name": "stdout",
     "output_type": "stream",
     "text": [
      "The decimal representation of '11111111' is: 255\n"
     ]
    }
   ],
   "source": [
    "def binary_to_decimal(binary_str):\n",
    "    decimal = 0\n",
    "    for i, bit in enumerate(reversed(binary_str)):\n",
    "        decimal += int(bit) * (2 ** i)\n",
    "    return decimal\n",
    "\n",
    "# Demo conversion for 11111111\n",
    "print(\"The decimal representation of '11111111' is:\", binary_to_decimal('11111111'))"
   ]
  },
  {
   "cell_type": "markdown",
   "id": "a0a85d7d",
   "metadata": {},
   "source": [
    "## Popcorn Hack 2: Binary Addition Battle"
   ]
  },
  {
   "cell_type": "code",
   "execution_count": 2,
   "id": "506e25e4",
   "metadata": {},
   "outputs": [],
   "source": [
    "import random\n",
    "import time\n",
    "\n",
    "def binary_addition_battle():\n",
    "    num1 = bin(random.randint(0, 255))[2:]\n",
    "    num2 = bin(random.randint(0, 255))[2:]\n",
    "    print(f\"Add the following binary numbers:\")\n",
    "    print(f\"Number 1: {num1}\")\n",
    "    print(f\"Number 2: {num2}\")\n",
    "    start_time = time.time()\n",
    "    user_answer = input(\"Your answer (in binary): \")\n",
    "    end_time = time.time()\n",
    "    correct_answer = bin(int(num1, 2) + int(num2, 2))[2:]\n",
    "    if user_answer == correct_answer:\n",
    "        print(f\"Correct! You took {end_time - start_time:.2f} seconds. Score: +10 points.\")\n",
    "    else:\n",
    "        print(f\"Oops! The correct answer was {correct_answer}. Score: -5 points.\")\n",
    "\n",
    "# To play, uncomment the next line:\n",
    "# binary_addition_battle()"
   ]
  },
  {
   "cell_type": "markdown",
   "id": "b2195c74",
   "metadata": {},
   "source": [
    "## Binary Subtraction Challenge"
   ]
  },
  {
   "cell_type": "code",
   "execution_count": 3,
   "id": "1058c804",
   "metadata": {},
   "outputs": [
    {
     "name": "stdout",
     "output_type": "stream",
     "text": [
      "1010 - 0111 = 11\n"
     ]
    }
   ],
   "source": [
    "import random\n",
    "\n",
    "def binary_subtraction(bin1, bin2):\n",
    "    max_len = max(len(bin1), len(bin2))\n",
    "    bin1 = bin1.zfill(max_len)\n",
    "    bin2 = bin2.zfill(max_len)\n",
    "    result = ''\n",
    "    borrow = 0\n",
    "    for i in range(max_len-1, -1, -1):\n",
    "        bit1 = int(bin1[i])\n",
    "        bit2 = int(bin2[i])\n",
    "        sub = bit1 - bit2 - borrow\n",
    "        if sub >= 0:\n",
    "            result = str(sub) + result\n",
    "            borrow = 0\n",
    "        else:\n",
    "            result = str(sub + 2) + result\n",
    "            borrow = 1\n",
    "    return result.lstrip('0') or '0'\n",
    "\n",
    "# Sample subtraction\n",
    "print(\"1010 - 0111 =\", binary_subtraction('1010', '0111'))"
   ]
  },
  {
   "cell_type": "markdown",
   "id": "c2712e6f",
   "metadata": {},
   "source": [
    "## HW HACK: Binary Battle Royale"
   ]
  },
  {
   "cell_type": "code",
   "execution_count": 4,
   "id": "bf7f9ec9",
   "metadata": {},
   "outputs": [],
   "source": [
    "import random\n",
    "import time\n",
    "\n",
    "def binary_addition(a, b):\n",
    "    return bin(int(a, 2) + int(b, 2))[2:]\n",
    "\n",
    "def binary_subtraction(a, b):\n",
    "    if int(a, 2) < int(b, 2):\n",
    "        return \"Error\"\n",
    "    return bin(int(a, 2) - int(b, 2))[2:]\n",
    "\n",
    "def decimal_to_binary(n):\n",
    "    return bin(n)[2:]\n",
    "\n",
    "def binary_to_decimal(b):\n",
    "    return int(b, 2)\n",
    "\n",
    "def binary_battle_royale():\n",
    "    print(\"👾 Welcome to Binary Battle Royale! 👾\")\n",
    "    score = 0\n",
    "    total_rounds = 3\n",
    "\n",
    "    for round_num in range(1, total_rounds + 1):\n",
    "        print(f\"\\n⚡ Round {round_num} ⚡\")\n",
    "        mode = random.choice([\"addition\", \"subtraction\", \"dec_to_bin\", \"bin_to_dec\"])\n",
    "\n",
    "        if mode == \"addition\":\n",
    "            num1 = bin(random.randint(0, 15))[2:]\n",
    "            num2 = bin(random.randint(0, 15))[2:]\n",
    "            print(f\"Add these two binary numbers: {num1} + {num2}\")\n",
    "            user_answer = input(\"Your answer (binary): \").strip()\n",
    "            correct_answer = binary_addition(num1, num2)\n",
    "        elif mode == \"subtraction\":\n",
    "            num1_val = random.randint(8, 31)\n",
    "            num2_val = random.randint(0, num1_val)\n",
    "            num1 = bin(num1_val)[2:]\n",
    "            num2 = bin(num2_val)[2:]\n",
    "            print(f\"Subtract these two binary numbers: {num1} - {num2}\")\n",
    "            user_answer = input(\"Your answer (binary): \").strip()\n",
    "            correct_answer = binary_subtraction(num1, num2)\n",
    "        elif mode == \"dec_to_bin\":\n",
    "            decimal_number = random.randint(0, 31)\n",
    "            print(f\"Convert this decimal number to binary: {decimal_number}\")\n",
    "            user_answer = input(\"Your answer (binary): \").strip()\n",
    "            correct_answer = decimal_to_binary(decimal_number)\n",
    "        else:\n",
    "            binary_number = bin(random.randint(0, 31))[2:]\n",
    "            print(f\"Convert this binary number to decimal: {binary_number}\")\n",
    "            user_answer = input(\"Your answer (decimal): \").strip()\n",
    "            correct_answer = str(binary_to_decimal(binary_number))\n",
    "\n",
    "        if user_answer == correct_answer:\n",
    "            print(\"✅ Correct!\")\n",
    "            score += 1\n",
    "        else:\n",
    "            print(f\"❌ Incorrect. The correct answer was {correct_answer}.\")\n",
    "\n",
    "    print(f\"\\n🏆 Game Over! 🏆 Final score: {score}/{total_rounds}\")\n",
    "    if score == total_rounds:\n",
    "        print(\"🌟 Amazing job! You're a Binary Master!\")\n",
    "    elif score >= total_rounds // 2:\n",
    "        print(\"👍 Good effort! Keep practicing!\")\n",
    "    else:\n",
    "        print(\"💡 Don't worry — review the rules and try again!\")\n",
    "\n",
    "# To play, uncomment the next line:\n",
    "# binary_battle_royale()"
   ]
  }
 ],
 "metadata": {
  "kernelspec": {
   "display_name": "venv",
   "language": "python",
   "name": "python3"
  },
  "language_info": {
   "codemirror_mode": {
    "name": "ipython",
    "version": 3
   },
   "file_extension": ".py",
   "mimetype": "text/x-python",
   "name": "python",
   "nbconvert_exporter": "python",
   "pygments_lexer": "ipython3",
   "version": "3.12.3"
  }
 },
 "nbformat": 4,
 "nbformat_minor": 5
}
