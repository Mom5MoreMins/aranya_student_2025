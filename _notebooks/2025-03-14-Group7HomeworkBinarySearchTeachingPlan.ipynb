{
 "cells": [
  {
   "cell_type": "markdown",
   "id": "03b023dd",
   "metadata": {},
   "source": [
    "---\n",
    "layout: post\n",
    "title: Group 7 Homework\n",
    "description: Binary Search\n",
    "comments: true\n",
    "sticky_rank: 1\n",
    "---"
   ]
  },
  {
   "cell_type": "markdown",
   "id": "0cba7ba9",
   "metadata": {},
   "source": [
    "## Popcorn Hack #1\n",
    "**Condition for Binary Search:**\n",
    "\n",
    "The list **must be sorted** for `BinarySearch(numList, target)` to work correctly. Binary search divides the list in half and compares `target` to the middle element. If unsorted, comparisons give no meaningful direction and the search can fail."
   ]
  },
  {
   "cell_type": "markdown",
   "id": "75383f92",
   "metadata": {},
   "source": [
    "## Popcorn Hack #2\n",
    "**Key Disadvantage:**\n",
    "\n",
    "Binary search **cannot** be used on unsorted lists without modifications. It relies on sorted order to function. Other options are incorrect: \n",
    "- (a) is false—binary search is typically faster than linear search;\n",
    "- (c) is incorrect—binary search doesn't guarantee first occurrence with duplicates;\n",
    "- (d) is false—binary search works with duplicates and doesn't require uniqueness."
   ]
  },
  {
   "cell_type": "markdown",
   "id": "77664c6f",
   "metadata": {},
   "source": [
    "## Popcorn Hack #3\n",
    "**Binary Search Implementation:**"
   ]
  },
  {
   "cell_type": "code",
   "execution_count": null,
   "id": "6f38c968",
   "metadata": {},
   "outputs": [],
   "source": [
    "def binary_search(arr, target):\n",
    "    low = 0\n",
    "    high = len(arr) - 1\n",
    "\n",
    "    while low <= high:\n",
    "        mid = (low + high) // 2\n",
    "        if arr[mid] == target:\n",
    "            return mid\n",
    "        elif arr[mid] < target:\n",
    "            low = mid + 1\n",
    "        else:\n",
    "            high = mid - 1\n",
    "\n",
    "    return -1  # target not found\n",
    "\n",
    "# Example usage\n",
    "letters = ['a', 'b', 'c', 'd', 'e', 'f', 'g']\n",
    "print(binary_search(letters, 'c'))  # Output: 2"
   ]
  },
  {
   "cell_type": "markdown",
   "id": "5a01271e",
   "metadata": {},
   "source": [
    "## Homework Hack: Binary Search on Real Data"
   ]
  },
  {
   "cell_type": "code",
   "execution_count": null,
   "id": "034a2829",
   "metadata": {},
   "outputs": [],
   "source": [
    "import pandas as pd\n",
    "import math\n",
    "\n",
    "# Load the dataset\n",
    "data = pd.read_csv(\"school_supplies.csv\")\n",
    "\n",
    "# Drop missing values and sort by 'Price'\n",
    "data_cleaned = data.dropna()\n",
    "data_sorted = data_cleaned.sort_values(by=\"Price\")\n",
    "\n",
    "# Extract sorted prices as a list\n",
    "price_list = data_sorted[\"Price\"].tolist()\n",
    "\n",
    "# Preview sorted data\n",
    "print(\"First few rows of sorted data:\")\n",
    "print(data_sorted.head())\n",
    "print(\"Original row count:\", len(data))\n",
    "print(\"Cleaned row count:\", len(data_cleaned))\n",
    "\n",
    "# Recursive binary search\n",
    "def binary_search_list(lst, value):\n",
    "    def search(start, end):\n",
    "        if start > end:\n",
    "            return -1\n",
    "        mid = (start + end) // 2\n",
    "        if lst[mid] == value:\n",
    "            return mid\n",
    "        elif lst[mid] > value:\n",
    "            return search(start, mid - 1)\n",
    "        else:\n",
    "            return search(mid + 1, end)\n",
    "    return search(0, len(lst) - 1)\n",
    "\n",
    "# Search for prices\n",
    "prices_to_find = [1.25, 6.49, 10.00]\n",
    "for price in prices_to_find:\n",
    "    idx = binary_search_list(price_list, price)\n",
    "    if idx == -1:\n",
    "        print(f\"Price not found: ${price}\")\n",
    "    else:\n",
    "        print(f\"Price ${price} found at index:\", idx)"
   ]
  },
  {
   "cell_type": "markdown",
   "id": "e50d9ec6",
   "metadata": {},
   "source": [
    "```\n",
    "First few rows of sorted data:\n",
    "   Product  Price\n",
    "5   Eraser   0.50\n",
    "14 Paper Clips   0.89\n",
    "2   Pencil   0.99\n",
    "9   Glue Stick   1.25\n",
    "1       Pen   1.50\n",
    "Original row count: 15\n",
    "Cleaned row count: 15\n",
    "Price $1.25 found at index: 3\n",
    "Price $6.49 found at index: 12\n",
    "Price not found: $10.0\n",
    "```"
   ]
  },
  {
   "cell_type": "markdown",
   "id": "006f62ee",
   "metadata": {},
   "source": [
    "**Explanation:** The code loads a CSV of product prices, drops missing values, sorts by price, and extracts the price list. A recursive binary search function `binary_search_list` then finds specified prices and reports their indices or not found status."
   ]
  }
 ],
 "metadata": {},
 "nbformat": 4,
 "nbformat_minor": 5
}
