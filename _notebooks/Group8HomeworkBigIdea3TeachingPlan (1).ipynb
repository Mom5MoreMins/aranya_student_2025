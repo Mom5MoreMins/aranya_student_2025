{
 "cells": [
  {
   "cell_type": "markdown",
   "id": "71ea218e",
   "metadata": {},
   "source": [
    "---\n",
    "layout: post\n",
    "title: Group 8 Homework\n",
    "description: Big Idea 3\n",
    "comments: true\n",
    "sticky_rank: 1\n",
    "---"
   ]
  },
  {
   "cell_type": "markdown",
   "id": "f50f3961",
   "metadata": {},
   "source": [
    "## Popcorn Hack #1\n",
    "Create and manipulate a list of famous movies:"
   ]
  },
  {
   "cell_type": "code",
   "execution_count": null,
   "id": "dbeddaed",
   "metadata": {},
   "outputs": [],
   "source": [
    "# Create a list of four famous movies\n",
    "movies = [\"The Godfather\", \"Titanic\", \"Inception\", \"The Dark Knight\"]\n",
    "\n",
    "# Replace the second movie (index 1) with a new movie\n",
    "movies[1] = \"Forrest Gump\"\n",
    "\n",
    "# Add another movie to the end of the list\n",
    "movies.append(\"Pulp Fiction\")\n",
    "\n",
    "# Display the updated list\n",
    "print(movies)"
   ]
  },
  {
   "cell_type": "markdown",
   "id": "0fd4d618",
   "metadata": {},
   "source": [
    "## Popcorn Hack #2\n",
    "Filter ages to find eligible voters (18+):"
   ]
  },
  {
   "cell_type": "code",
   "execution_count": null,
   "id": "ebd6e516",
   "metadata": {},
   "outputs": [],
   "source": [
    "ages = [15, 20, 34, 16, 18, 21, 14, 19]\n",
    "\n",
    "# Create a new list with ages 18 or older\n",
    "eligible_voters = [age for age in ages if age >= 18]\n",
    "\n",
    "print(eligible_voters)"
   ]
  },
  {
   "cell_type": "markdown",
   "id": "000f7357",
   "metadata": {},
   "source": [
    "## Homework Hack #1: Video Notes\n",
    "\n",
    "**Python Lists**  \n",
    "- Store ordered data; order matters.  \n",
    "- Create with `list()` or `[]`.  \n",
    "- Add with `.append()`.  \n",
    "- Indexing starts at 0; negative indices wrap from the end.  \n",
    "- Slice with `[start:stop]`.  \n",
    "- Can hold mixed types and nested lists.  \n",
    "- Combine with `+`; order matters.\n",
    "\n",
    "**List Comprehensions**  \n",
    "- One-line syntax for creating lists.  \n",
    "- Example: `[n*n for n in nums]`.  \n",
    "- Can filter: `[n for n in nums if n % 2 == 0]`.  \n",
    "- Support nested loops and other comprehension types."
   ]
  },
  {
   "cell_type": "markdown",
   "id": "ed1fc38a",
   "metadata": {},
   "source": [
    "## Homework Hack #2\n",
    "Filter numbers divisible by 3 but not by 5 from 1–30:"
   ]
  },
  {
   "cell_type": "code",
   "execution_count": null,
   "id": "26a4d10f",
   "metadata": {},
   "outputs": [],
   "source": [
    "# Initialize the list containing numbers from 1 to 30\n",
    "nums = list(range(1, 31))\n",
    "\n",
    "# Filter numbers divisible by 3 but not by 5\n",
    "filtered_nums = [n for n in nums if n % 3 == 0 and n % 5 != 0]\n",
    "\n",
    "# Print the original and filtered lists\n",
    "print(\"Original List:\", nums)\n",
    "print(\"Filtered List (divisible by 3 but not 5):\", filtered_nums)"
   ]
  },
  {
   "cell_type": "markdown",
   "id": "24417db7",
   "metadata": {},
   "source": [
    "## Homework Hack #3\n",
    "Filter names based on minimum length:"
   ]
  },
  {
   "cell_type": "code",
   "execution_count": null,
   "id": "c5f00954",
   "metadata": {},
   "outputs": [],
   "source": [
    "def filter_long_names(names, min_length):\n",
    "    # Filter and return names that meet or exceed the minimum length\n",
    "    return [name for name in names if len(name) >= min_length]\n",
    "\n",
    "# Test the function\n",
    "names_list = [\"John\", \"Alexander\", \"Amy\", \"Elizabeth\", \"Kate\"]\n",
    "min_length = 5\n",
    "\n",
    "filtered_names = filter_long_names(names_list, min_length)\n",
    "print(\"Filtered Names:\", filtered_names)"
   ]
  },
  {
   "cell_type": "markdown",
   "id": "7eaba9c4",
   "metadata": {},
   "source": [
    "## Review Questions\n",
    "\n",
    "1. **What are lists in Python, and how do you modify/manipulate them?**  \n",
    "2. **Describe a real-world scenario for filtering algorithms.**  \n",
    "3. **Why does analyzing filtering algorithm efficiency matter in software development?**"
   ]
  }
 ],
 "metadata": {
  "language_info": {
   "name": "python"
  }
 },
 "nbformat": 4,
 "nbformat_minor": 5
}
