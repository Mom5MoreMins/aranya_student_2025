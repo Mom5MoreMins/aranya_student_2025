{
 "cells": [
  {
   "cell_type": "markdown",
   "id": "5da68860",
   "metadata": {},
   "source": [
    "---\n",
    "layout: post\n",
    "title: CrowdsourcingInComputingTeachingPlan\n",
    "description: Crowdsourcing in Computing\n",
    "comments: true\n",
    "---"
   ]
  },
  {
   "cell_type": "markdown",
   "id": "c763aa90",
   "metadata": {},
   "source": [
    "# Crowdsourcing in Computing\n",
    "\n",
    "Crowdsourcing gathers contributions from a large group to solve problems, generate data, or complete tasks."
   ]
  },
  {
   "cell_type": "markdown",
   "id": "92ce35e4",
   "metadata": {},
   "source": [
    "## Rate the Mango Introduction\n",
    "Using class data, we can improve our website’s introduction via crowdsourcing. Rate it 1–10 and suggest enhancements."
   ]
  },
  {
   "cell_type": "markdown",
   "id": "316b1d38",
   "metadata": {},
   "source": [
    "## What is Crowdsourcing?\n",
    "A method of gathering contributions from many participants, typically online, to tackle tasks faster, cheaper, and with diverse input."
   ]
  },
  {
   "cell_type": "markdown",
   "id": "24d46704",
   "metadata": {},
   "source": [
    "## AP CSP Connections\n",
    "- **Big Idea 5:** Impact of Computing – expands access & collaboration.\n",
    "- **Data Aggregation:** Improves AI, ML, predictive models.\n",
    "- **Computing Innovations:** e.g., Wikipedia, AI training, medical research, citizen science."
   ]
  },
  {
   "cell_type": "markdown",
   "id": "c200b6f9",
   "metadata": {},
   "source": [
    "## Video: How Gamers Solved a Medical Mystery\n",
    "Gamers using Foldit solved an HIV enzyme structure in 10 days that experts struggled with for 15 years."
   ]
  },
  {
   "cell_type": "markdown",
   "id": "532d9ef6",
   "metadata": {},
   "source": [
    "## Real-World Examples\n",
    "- **Wikipedia**: Volunteer editors, pros and cons.\n",
    "- **Spotify Playlists**: Community curation, pros and cons.\n",
    "- **Foldit**: Gamified protein folding, pros and cons."
   ]
  },
  {
   "cell_type": "markdown",
   "id": "16c38809",
   "metadata": {},
   "source": [
    "## Types of Crowdsourcing\n",
    "- **Wisdom of the Crowd:** Collective opinions.\n",
    "- **Crowd Creation:** Consumer-generated product ideas.\n",
    "- **Crowd Voting:** Users vote on choices.\n",
    "- **Crowdfunding:** Raising money via contributions."
   ]
  },
  {
   "cell_type": "markdown",
   "id": "fa279505",
   "metadata": {},
   "source": [
    "## Popcorn Hack #1: Quick Brainstorm\n",
    "Discuss with a partner an example of crowdsourcing from daily life. Share in 30 seconds each."
   ]
  },
  {
   "cell_type": "markdown",
   "id": "5f119ba9",
   "metadata": {},
   "source": [
    "## Popcorn Hack #2: Debate It!\n",
    "Pair up and debate: Is crowdsourcing always reliable? Take sides and argue for one minute."
   ]
  },
  {
   "cell_type": "markdown",
   "id": "9570efd1",
   "metadata": {},
   "source": [
    "## MCQ Practice\n",
    "**Q:** Which best describes crowdsourcing?\n",
    "\n",
    "A. Hiring one expert  \n",
    "B. Using AI to generate data  \n",
    "C. Collecting contributions from a large group  \n",
    "D. Outsourcing work to another company\n",
    "\n",
    "**Answer:** C"
   ]
  },
  {
   "cell_type": "markdown",
   "id": "7830c966",
   "metadata": {},
   "source": [
    "## Popcorn Hack #3: Real-World Crowdsourcing\n",
    "Find an example of crowdsourcing online and explain how it works in a few sentences."
   ]
  },
  {
   "cell_type": "markdown",
   "id": "aa6537bd",
   "metadata": {},
   "source": [
    "## Homework Hack: Crowdsourcing a Playlist\n",
    "Create a crowdsourced Spotify playlist:\n",
    "1. Join the class playlist and add ≥2 theme songs.\n",
    "2. Discuss how crowdsourcing improves or harms playlist quality."
   ]
  },
  {
   "cell_type": "markdown",
   "id": "fcfcf219",
   "metadata": {},
   "source": [
    "## Final Thoughts\n",
    "Crowdsourcing is fast, cheap, inclusive but poses challenges in reliability, ethics, and quality control. Responsible use ensures fairness and accuracy."
   ]
  }
 ],
 "metadata": {},
 "nbformat": 4,
 "nbformat_minor": 5
}
