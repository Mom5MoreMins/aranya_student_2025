{
 "cells": [
  {
   "cell_type": "markdown",
   "id": "83b0d4a6",
   "metadata": {},
   "source": [
    "---\n",
    "layout: post\n",
    "title: UndecidableProblemsAndGraphsHeuristicsTeachingPlan\n",
    "description: CSP Big Idea 4\n",
    "comments: true\n",
    "---"
   ]
  },
  {
   "cell_type": "markdown",
   "id": "1caa7bbd",
   "metadata": {},
   "source": [
    "## Undecidable and Decidable Problems in Computer Science"
   ]
  },
  {
   "cell_type": "markdown",
   "id": "5fe26dac",
   "metadata": {},
   "source": [
    "\n",
    "**Undecidable Problems**  \n",
    "- No algorithm can decide all instances.  \n",
    "- Example: The Halting Problem.  \n",
    "\n",
    "**Decidable Problems**  \n",
    "- An algorithm exists that terminates with the correct yes/no answer for every input.  \n",
    "- Example: Checking if a number is divisible by 3.  \n"
   ]
  },
  {
   "cell_type": "markdown",
   "id": "5a7d1812",
   "metadata": {},
   "source": [
    "### Popcorn Hack 1\n",
    "**Q:** An algorithm can be used to solve an undecidable problem. (True/False)\n",
    "\n",
    "**A:** False"
   ]
  },
  {
   "cell_type": "markdown",
   "id": "8d53d21f",
   "metadata": {},
   "source": [
    "### Popcorn Hack 2\n",
    "**Q:** If a programmer encounters an undecidable problem, they can just use an algorithm that works most of the time. (True/False)\n",
    "\n",
    "**A:** False"
   ]
  },
  {
   "cell_type": "markdown",
   "id": "25b79252",
   "metadata": {},
   "source": [
    "### Popcorn Hack 3\n",
    "**Q:** Which of the following options is not an example of an undecidable problem?\n",
    "\n",
    "A. Halting Problem  \n",
    "B. The Collatz Conjecture  \n",
    "C. Rice’s Theorem  \n",
    "D. Bubble sorting  \n",
    "\n",
    "**A:** D"
   ]
  },
  {
   "cell_type": "markdown",
   "id": "0aaf416a",
   "metadata": {},
   "source": [
    "### Homework: Undecidable Problems\n",
    "Investigate and describe how modern operating systems and browsers handle infinite loops or excessively long-running scripts. What mechanisms are in place to detect and mitigate such issues? Provide real-world examples, such as error messages, timeouts, or recovery processes."
   ]
  },
  {
   "cell_type": "markdown",
   "id": "265ebc5b",
   "metadata": {},
   "source": [
    "## Graphs & Heuristics"
   ]
  },
  {
   "cell_type": "markdown",
   "id": "857332aa",
   "metadata": {},
   "source": [
    "\n",
    "**Graphs**  \n",
    "- **Nodes (Vertices):** Entities.  \n",
    "- **Edges:** Connections.  \n",
    "\n",
    "**Types of Graphs**  \n",
    "- Undirected vs Directed  \n",
    "- Unweighted vs Weighted  \n"
   ]
  },
  {
   "cell_type": "markdown",
   "id": "d2809966",
   "metadata": {},
   "source": [
    "### Popcorn Hack #1\n",
    "**Q:** In a directed graph, an edge from node A to node B implies there is always a corresponding edge from B to A. (True/False)\n",
    "\n",
    "**A:** False"
   ]
  },
  {
   "cell_type": "markdown",
   "id": "8b0d0be1",
   "metadata": {},
   "source": [
    "\n",
    "**Heuristics**  \n",
    "A rule-of-thumb approach to simplify problem-solving, trading optimality for speed.  \n",
    "\n",
    "**Examples**  \n",
    "- Greedy algorithms (e.g., Nearest Neighbor for TSP)  \n",
    "- A* Search  \n"
   ]
  },
  {
   "cell_type": "markdown",
   "id": "4a8b4273",
   "metadata": {},
   "source": [
    "### Popcorn Hack #2\n",
    "**Q:** Heuristics always provide faster solutions than exact algorithms, but may sacrifice accuracy. (True/False)\n",
    "\n",
    "**A:** True"
   ]
  },
  {
   "cell_type": "markdown",
   "id": "cae3096d",
   "metadata": {},
   "source": [
    "\n",
    "### Traveling Salesman Problem (TSP)  \n",
    "Find the shortest route visiting each city once and returning.  \n",
    "Heuristics like Nearest Neighbor approximate but don't guarantee optimal.\n"
   ]
  },
  {
   "cell_type": "markdown",
   "id": "8165bc69",
   "metadata": {},
   "source": [
    "### Popcorn Hack #3\n",
    "**Q:** Heuristic algorithms for TSP reduce time but can never guarantee optimality, and the gap to optimal can grow exponentially as cities increase. (True/False)\n",
    "\n",
    "**A:** True"
   ]
  },
  {
   "cell_type": "markdown",
   "id": "eee160c7",
   "metadata": {},
   "source": [
    "### Homework: Social Network Analysis\n",
    "Explore how graphs model social networks:\n",
    "- How are users (nodes) and relationships (edges) represented?\n",
    "- Provide a real-world example of a social platform using graph theory."
   ]
  }
 ],
 "metadata": {
  "language_info": {
   "name": "python"
  }
 },
 "nbformat": 4,
 "nbformat_minor": 5
}
