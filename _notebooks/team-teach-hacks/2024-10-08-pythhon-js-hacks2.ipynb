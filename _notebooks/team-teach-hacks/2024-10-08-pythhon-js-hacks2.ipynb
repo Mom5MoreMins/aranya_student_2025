{
 "cells": [
  {
   "cell_type": "raw",
   "metadata": {
    "vscode": {
     "languageId": "raw"
    }
   },
   "source": [
    "---\n",
    "layout: post\n",
    "title: problems \n",
    "description: Quick launch into Variables, Functions, Arrays, Classes, Objects.\n",
    "categories: [JavaScript]\n",
    "permalink: /homework2/ \n",
    "---"
   ]
  },
  {
   "cell_type": "markdown",
   "metadata": {},
   "source": [
    "Hack 1, 3.6.3: Conditionals"
   ]
  },
  {
   "cell_type": "code",
   "execution_count": 11,
   "metadata": {},
   "outputs": [
    {
     "name": "stdout",
     "output_type": "stream",
     "text": [
      "You just became an adult!\n"
     ]
    }
   ],
   "source": [
    "# Example of Python Conditionals with comments\n",
    "\n",
    "# Step 1: Set an example value for age\n",
    "age = 18\n",
    "\n",
    "# Step 2: Use an if statement to check if the age is less than 18\n",
    "if age < 18:\n",
    "    # This block runs if the condition is True\n",
    "    print(\"You are a minor.\")\n",
    "\n",
    "# Step 3: Use an elif statement to check if age equals 18\n",
    "elif age == 18:\n",
    "    # This block runs if the age is exactly 18\n",
    "    print(\"You just became an adult!\")\n",
    "\n",
    "# Step 4: Use an else statement for any other cases (age greater than 18)\n",
    "else:\n",
    "    # This block runs if none of the previous conditions were True\n",
    "    print(\"You are an adult.\")\n"
   ]
  },
  {
   "cell_type": "markdown",
   "metadata": {},
   "source": [
    "Hack 2, 3.6.2: Js conditional"
   ]
  },
  {
   "cell_type": "code",
   "execution_count": 12,
   "metadata": {
    "vscode": {
     "languageId": "javascript"
    }
   },
   "outputs": [
    {
     "ename": "SyntaxError",
     "evalue": "invalid syntax (3044075811.py, line 1)",
     "output_type": "error",
     "traceback": [
      "\u001b[0;36m  Cell \u001b[0;32mIn[12], line 1\u001b[0;36m\u001b[0m\n\u001b[0;31m    // Function to get a grade based on score\u001b[0m\n\u001b[0m    ^\u001b[0m\n\u001b[0;31mSyntaxError\u001b[0m\u001b[0;31m:\u001b[0m invalid syntax\n"
     ]
    }
   ],
   "source": [
    "// Function to get a grade based on score\n",
    "function getGrade() {\n",
    "    // Prompt the user to input a score\n",
    "    let score = prompt(\"Enter the score (0-100):\");\n",
    "    score = Number(score);  // Convert input to a number\n",
    "\n",
    "    // Check if the input is a valid number\n",
    "    if (isNaN(score) || score < 0 || score > 100) {\n",
    "        console.log(\"Please enter a valid score between 0 and 100.\");\n",
    "    } else {\n",
    "        // Check the score using conditionals\n",
    "        if (score >= 90) {\n",
    "            console.log(\"A\");  // Grade A for scores 90 and above\n",
    "        } else if (score >= 80) {\n",
    "            console.log(\"B\");  // Grade B for scores between 80 and 89\n",
    "        } else if (score >= 70) {\n",
    "            console.log(\"C\");  // Grade C for scores between 70 and 79\n",
    "        } else {\n",
    "            console.log(\"F\");  // Grade F for scores below 70\n",
    "        }\n",
    "    }\n",
    "}\n",
    "\n",
    "// Call the function to get a grade\n",
    "getGrade();"
   ]
  },
  {
   "cell_type": "markdown",
   "metadata": {
    "vscode": {
     "languageId": "javascript"
    }
   },
   "source": [
    "Hack 3, 3.7.2: PYTHON popcorn"
   ]
  },
  {
   "cell_type": "code",
   "execution_count": null,
   "metadata": {},
   "outputs": [],
   "source": [
    "# Function to determine the grade based on a score\n",
    "def determine_grade(score):\n",
    "    if score >= 90:\n",
    "        return \"A\"\n",
    "    elif score >= 80:\n",
    "        return \"B\"\n",
    "    elif score >= 70:\n",
    "        return \"C\"\n",
    "    else:\n",
    "        # Nested conditionals for borderline cases\n",
    "        if score >= 60:\n",
    "            print(\"Borderline case: Checking additional criteria...\")\n",
    "            extra_credit = input(\"Did the student complete extra credit? (yes/no): \").lower()\n",
    "            if extra_credit == \"yes\":\n",
    "                return \"C\"\n",
    "            else:\n",
    "                return \"D\"\n",
    "        else:\n",
    "            return \"F\"\n",
    "\n",
    "# Get user input for the score\n",
    "try:\n",
    "    score = int(input(\"Enter the student's score (0-100): \"))\n",
    "    if 0 <= score <= 100:\n",
    "        grade = determine_grade(score)\n",
    "        print(f\"The student's grade is: {grade}\")\n",
    "    else:\n",
    "        print(\"Please enter a valid score between 0 and 100.\")\n",
    "except ValueError:\n",
    "    print(\"Invalid input! Please enter a numeric value.\")\n"
   ]
  },
  {
   "cell_type": "markdown",
   "metadata": {},
   "source": [
    "Popcorn Hack 4, 3.7.3:  js"
   ]
  },
  {
   "cell_type": "code",
   "execution_count": null,
   "metadata": {
    "vscode": {
     "languageId": "javascript"
    }
   },
   "outputs": [],
   "source": [
    "// Function to assess fitness level based on number of push-ups\n",
    "function assessFitnessLevel(pushUps) {\n",
    "    let fitnessLevel;\n",
    "    \n",
    "    if (pushUps >= 50) {\n",
    "        fitnessLevel = \"Elite\";\n",
    "    } else {\n",
    "        if (pushUps >= 30) {\n",
    "            fitnessLevel = \"Advanced\";\n",
    "        } else {\n",
    "            if (pushUps >= 15) {\n",
    "                fitnessLevel = \"Intermediate\";\n",
    "            } else {\n",
    "                if (pushUps >= 1) {\n",
    "                    fitnessLevel = \"Beginner\";\n",
    "                } else {\n",
    "                    fitnessLevel = \"Unfit\";\n",
    "                }\n",
    "            }\n",
    "        }\n",
    "    }\n",
    "    return fitnessLevel;\n",
    "}\n",
    "\n",
    "// Example usage\n",
    "const userPushUps = 28; // You can change this value to test different inputs\n",
    "console.log(`Fitness Level: ${assessFitnessLevel(userPushUps)}`);\n"
   ]
  }
 ],
 "metadata": {
  "kernelspec": {
   "display_name": "venv",
   "language": "python",
   "name": "python3"
  },
  "language_info": {
   "codemirror_mode": {
    "name": "ipython",
    "version": 3
   },
   "file_extension": ".py",
   "mimetype": "text/x-python",
   "name": "python",
   "nbconvert_exporter": "python",
   "pygments_lexer": "ipython3",
   "version": "3.12.3"
  }
 },
 "nbformat": 4,
 "nbformat_minor": 2
}
