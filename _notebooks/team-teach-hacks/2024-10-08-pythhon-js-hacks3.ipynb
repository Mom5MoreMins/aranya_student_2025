{
 "cells": [
  {
   "cell_type": "raw",
   "metadata": {
    "vscode": {
     "languageId": "raw"
    }
   },
   "source": [
    "---\n",
    "layout: post\n",
    "title: problems \n",
    "description: Quick launch into Variables, Functions, Arrays, Classes, Objects.\n",
    "categories: [JavaScript]\n",
    "permalink: /homework3/ \n",
    "---"
   ]
  },
  {
   "cell_type": "markdown",
   "metadata": {},
   "source": [
    "Hack 1, 3.8.1: popcorn"
   ]
  },
  {
   "cell_type": "code",
   "execution_count": 4,
   "metadata": {},
   "outputs": [
    {
     "name": "stdout",
     "output_type": "stream",
     "text": [
      "Numbers divisible by 3:\n"
     ]
    }
   ],
   "source": [
    "# Popcorn Hack: Divisibility by 3\n",
    "\n",
    "# Create an empty list\n",
    "nums = []\n",
    "\n",
    "# Get user input for how many numbers they want to add\n",
    "num_of_inputs = int(input(\"How many numbers do you want to add to the list? \"))\n",
    "\n",
    "# Use a loop to get inputs and append them to the list\n",
    "for _ in range(num_of_inputs):\n",
    "    number = int(input(\"Enter a number: \"))\n",
    "    nums.append(number)\n",
    "\n",
    "# Use a for loop to iterate through the list and check divisibility by 3\n",
    "print(\"Numbers divisible by 3:\")\n",
    "for num in nums:\n",
    "    if num % 3 == 0:  # Nested if statement to check divisibility by 3\n",
    "        print(num)"
   ]
  },
  {
   "cell_type": "markdown",
   "metadata": {},
   "source": [
    "Hack 2, 3.8.8: homeowrk"
   ]
  },
  {
   "cell_type": "code",
   "execution_count": 5,
   "metadata": {},
   "outputs": [
    {
     "name": "stdout",
     "output_type": "stream",
     "text": [
      "1\n",
      "2\n",
      "4\n",
      "10 divided by 1 is 10.0\n",
      "10 divided by 2 is 5.0\n",
      "Division by zero.\n",
      "Type error.\n",
      "10 divided by 4 is 2.5\n",
      "Type error.\n",
      "10 divided by 5 is 2.0\n"
     ]
    }
   ],
   "source": [
    "# Part 1: Iterating through the list and applying rules\n",
    "numbers = [1, 2, 3, 4, 5]\n",
    "\n",
    "for num in numbers:\n",
    "    if num == 3:\n",
    "        continue  # Skip number 3\n",
    "    if num == 5:\n",
    "        break  # Stop the loop completely at 5\n",
    "    print(num)  # Print the number if it's not skipped or breaking the loop\n",
    "\n",
    "# Part 2: Error handling in loops\n",
    "elements = [1, 2, 0, \"three\", 4, \"five\", 5]\n",
    "\n",
    "for elem in elements:\n",
    "    try:\n",
    "        # Attempt to divide 10 by each element\n",
    "        result = 10 / elem\n",
    "        print(f\"10 divided by {elem} is {result}\")\n",
    "    except ZeroDivisionError:\n",
    "        print(\"Division by zero.\")\n",
    "    except TypeError:\n",
    "        print(\"Type error.\")  # Handle if it's not a number (e.g., a string)\n"
   ]
  },
  {
   "cell_type": "markdown",
   "metadata": {
    "vscode": {
     "languageId": "javascript"
    }
   },
   "source": [
    "Hack 3, 3.8.7: homework"
   ]
  },
  {
   "cell_type": "code",
   "execution_count": 6,
   "metadata": {},
   "outputs": [
    {
     "name": "stdout",
     "output_type": "stream",
     "text": [
      "red\n",
      "blue\n",
      "green\n",
      "yellow\n",
      "apple : 3\n",
      "banana : 5\n",
      "cherry : 7\n"
     ]
    }
   ],
   "source": [
    "# Exercise 1 and 2 combined\n",
    "\n",
    "# Exercise 1: Loop through a list of colors\n",
    "colors = [\"red\", \"blue\", \"green\", \"yellow\"]\n",
    "for color in colors:\n",
    "    print(color)  # Display each color\n",
    "\n",
    "# Exercise 2: Loop through a dictionary of fruits and their quantities\n",
    "fruits = {\"apple\": 3, \"banana\": 5, \"cherry\": 7}  # Number of each type of fruit\n",
    "for fruit, quantity in fruits.items():\n",
    "    print(fruit, \":\", quantity)  # Display each fruit and its corresponding quantity"
   ]
  }
 ],
 "metadata": {
  "kernelspec": {
   "display_name": "venv",
   "language": "python",
   "name": "python3"
  },
  "language_info": {
   "codemirror_mode": {
    "name": "ipython",
    "version": 3
   },
   "file_extension": ".py",
   "mimetype": "text/x-python",
   "name": "python",
   "nbconvert_exporter": "python",
   "pygments_lexer": "ipython3",
   "version": "3.12.3"
  }
 },
 "nbformat": 4,
 "nbformat_minor": 2
}
