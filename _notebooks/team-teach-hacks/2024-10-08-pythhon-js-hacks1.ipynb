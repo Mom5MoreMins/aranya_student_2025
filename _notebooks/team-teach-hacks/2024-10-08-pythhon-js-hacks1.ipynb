{
 "cells": [
  {
   "cell_type": "raw",
   "metadata": {
    "vscode": {
     "languageId": "raw"
    }
   },
   "source": [
    "---\n",
    "layout: post\n",
    "title: problems \n",
    "description: Quick launch into Variables, Functions, Arrays, Classes, Objects.\n",
    "categories: [JavaScript]\n",
    "permalink: /homework1/ \n",
    "---"
   ]
  },
  {
   "cell_type": "markdown",
   "metadata": {},
   "source": [
    "Hack 1, 3.3.3: Fibonacci"
   ]
  },
  {
   "cell_type": "code",
   "execution_count": 5,
   "metadata": {},
   "outputs": [
    {
     "name": "stdout",
     "output_type": "stream",
     "text": [
      "The 7th Fibonacci number is: 13\n"
     ]
    }
   ],
   "source": [
    "# Simple Fibonacci sequence function with slight changes\n",
    "\n",
    "def fibonacci(n):\n",
    "    # Base cases: return n for 0 or 1, since Fibonacci(0) = 0 and Fibonacci(1) = 1\n",
    "    if n <= 1:\n",
    "        return n\n",
    "    \n",
    "    # Starting values for Fibonacci sequence\n",
    "    a, b = 0, 1\n",
    "    \n",
    "    # Loop from 2 to n (since Fibonacci(0) and Fibonacci(1) are already known)\n",
    "    for i in range(2, n+1):\n",
    "        # Calculate the next Fibonacci number\n",
    "        a, b = b, a + b  # a becomes the previous b, and b becomes the next number\n",
    "    \n",
    "    return b\n",
    "\n",
    "# Example: Find the 7th Fibonacci number\n",
    "n = 7\n",
    "print(f\"The {n}th Fibonacci number is: {fibonacci(n)}\")\n"
   ]
  },
  {
   "cell_type": "markdown",
   "metadata": {},
   "source": [
    "Hack 2, 3.3.4: Js operations"
   ]
  },
  {
   "cell_type": "code",
   "execution_count": 6,
   "metadata": {},
   "outputs": [
    {
     "name": "stdout",
     "output_type": "stream",
     "text": [
      "Addition: 10 + 5 = 15\n",
      "Subtraction: 10 - 5 = 5\n",
      "Multiplication: 10 * 5 = 50\n",
      "Division: 10 / 5 = 2.0\n",
      "Modulus: 10 % 5 = 0\n"
     ]
    }
   ],
   "source": [
    "# Function for basic arithmetic operations in Python\n",
    "\n",
    "def basic_operations(a, b):\n",
    "    # Perform basic arithmetic operations\n",
    "    sum_result = a + b\n",
    "    difference = a - b\n",
    "    product = a * b\n",
    "    quotient = a / b\n",
    "    remainder = a % b\n",
    "    \n",
    "    # Print out the results\n",
    "    print(f\"Addition: {a} + {b} = {sum_result}\")\n",
    "    print(f\"Subtraction: {a} - {b} = {difference}\")\n",
    "    print(f\"Multiplication: {a} * {b} = {product}\")\n",
    "    print(f\"Division: {a} / {b} = {quotient}\")\n",
    "    print(f\"Modulus: {a} % {b} = {remainder}\")\n",
    "\n",
    "# Example usage\n",
    "basic_operations(10, 5)\n"
   ]
  },
  {
   "cell_type": "markdown",
   "metadata": {
    "vscode": {
     "languageId": "javascript"
    }
   },
   "source": [
    "Hack 3, 3.5.3: PYTHON GAME plus Truth "
   ]
  },
  {
   "cell_type": "code",
   "execution_count": 7,
   "metadata": {},
   "outputs": [
    {
     "name": "stdout",
     "output_type": "stream",
     "text": [
      "Welcome to the 'Can you go outside?' game!\n",
      "Stay inside, it's raining and cold!\n"
     ]
    }
   ],
   "source": [
    "# Simple game using De Morgan's Law\n",
    "def can_go_outside(is_raining, is_cold):\n",
    "    # De Morgan's Law: Not (raining and cold) is the same as not raining or not cold\n",
    "    if not (is_raining and is_cold):\n",
    "        return \"It's safe to go outside!\"\n",
    "    else:\n",
    "        return \"Stay inside, it's raining and cold!\"\n",
    "\n",
    "# Example interaction\n",
    "def play_game():\n",
    "    print(\"Welcome to the 'Can you go outside?' game!\")\n",
    "    \n",
    "    # User input to determine the weather\n",
    "    raining_input = input(\"Is it raining? (yes/no): \").lower() == \"yes\"\n",
    "    cold_input = input(\"Is it cold? (yes/no): \").lower() == \"yes\"\n",
    "    \n",
    "    # Check if the player can go outside using De Morgan's Law\n",
    "    result = can_go_outside(raining_input, cold_input)\n",
    "    \n",
    "    print(result)\n",
    "\n",
    "# Play the game\n",
    "play_game()\n",
    "\n"
   ]
  },
  {
   "cell_type": "markdown",
   "metadata": {},
   "source": [
    "Popcorn Hack 4, 3.5.4:  vowel checkers"
   ]
  },
  {
   "cell_type": "code",
   "execution_count": 8,
   "metadata": {},
   "outputs": [
    {
     "ename": "IndentationError",
     "evalue": "expected an indented block after function definition on line 2 (2015688094.py, line 3)",
     "output_type": "error",
     "traceback": [
      "\u001b[0;36m  Cell \u001b[0;32mIn[8], line 3\u001b[0;36m\u001b[0m\n\u001b[0;31m    vowels = 'aeiou'  # Define vowels\u001b[0m\n\u001b[0m    ^\u001b[0m\n\u001b[0;31mIndentationError\u001b[0m\u001b[0;31m:\u001b[0m expected an indented block after function definition on line 2\n"
     ]
    }
   ],
   "source": [
    "    # Function to check if a character is a vowel\n",
    "def check_vowel(char):\n",
    "    vowels = 'aeiou'  # Define vowels\n",
    "    if char.lower() in vowels:  # Check if the character is in the vowel list (ignores case)\n",
    "        print(f\"The character '{char}' is a vowel.\")\n",
    "    else:\n",
    "        print(f\"The character '{char}' is not a vowel.\")\n",
    "\n",
    "# Prompt the user for input\n",
    "char = input(\"Enter a character: \")\n",
    "\n",
    "# Check if input is a single character\n",
    "if len(char) == 1:\n",
    "    check_vowel(char)  # Call the function\n",
    "else:\n",
    "    print(\"Please enter a single character.\")  # Error if more than one character is entered\n"
   ]
  }
 ],
 "metadata": {
  "kernelspec": {
   "display_name": "venv",
   "language": "python",
   "name": "python3"
  },
  "language_info": {
   "codemirror_mode": {
    "name": "ipython",
    "version": 3
   },
   "file_extension": ".py",
   "mimetype": "text/x-python",
   "name": "python",
   "nbconvert_exporter": "python",
   "pygments_lexer": "ipython3",
   "version": "3.12.3"
  }
 },
 "nbformat": 4,
 "nbformat_minor": 2
}
