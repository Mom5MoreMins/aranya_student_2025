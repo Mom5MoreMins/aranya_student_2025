{
 "cells": [
  {
   "cell_type": "raw",
   "metadata": {
    "vscode": {
     "languageId": "raw"
    }
   },
   "source": [
    "---\n",
    "layout: post\n",
    "title: problems \n",
    "description: Quick launch into Variables, Functions, Arrays, Classes, Objects.\n",
    "categories: [JavaScript]\n",
    "permalink: /pythonnotebook/ \n",
    "---"
   ]
  },
  {
   "cell_type": "markdown",
   "metadata": {},
   "source": [
    "# Challenges I faced while learning Python\n",
    "---\n",
    "- One of the initial challenges was understanding how to effectively use **data structures** like lists, dictionaries, and sets. Although they seemed simple at first, mastering their more complex features such as list comprehensions and dictionary methods required practice.\n",
    "- Debugging and managing error handling took some time to get used to, especially learning how to interpret Python error messages properly.\n",
    "\n",
    "# How I overcame these challenges\n",
    "---\n",
    "- I practiced by working on small Python projects, starting with basic tasks and progressively using more advanced **data structures**. The Python documentation and forums like Stack Overflow were extremely helpful.\n",
    "- Debugging became easier as I started using tools like **pdb** and learning how to use try-except blocks for handling errors effectively. \n"
   ]
  }
 ],
 "metadata": {
  "kernelspec": {
   "display_name": "Python 3 (ipykernel)",
   "language": "python",
   "name": "python3"
  },
  "language_info": {
   "codemirror_mode": {
    "name": "ipython",
    "version": 3
   },
   "file_extension": ".py",
   "mimetype": "text/x-python",
   "name": "python",
   "nbconvert_exporter": "python",
   "pygments_lexer": "ipython3",
   "version": "3.12.3"
  }
 },
 "nbformat": 4,
 "nbformat_minor": 2
}
